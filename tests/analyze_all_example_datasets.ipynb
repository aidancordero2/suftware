{
 "cells": [
  {
   "cell_type": "code",
   "execution_count": 1,
   "metadata": {
    "collapsed": true
   },
   "outputs": [],
   "source": [
    "# Standard modules\n",
    "import numpy as np\n",
    "import matplotlib.pyplot as plt\n",
    "\n",
    "# Other modules\n",
    "import sys\n",
    "import time\n",
    "import glob\n",
    "import os\n",
    "\n",
    "# Import suftware\n",
    "sys.path = ['../src'] + sys.path\n",
    "import suftware as sw"
   ]
  },
  {
   "cell_type": "code",
   "execution_count": 2,
   "metadata": {},
   "outputs": [
    {
     "name": "stdout",
     "output_type": "stream",
     "text": [
      " 0: 0.098 sec for buffalo_snowfall\n",
      " 1: 0.076 sec for old_faithful_eruption_times\n",
      " 2: 0.055 sec for old_faithful_waiting_times\n",
      " 3: 0.077 sec for treatment_length\n",
      " 4: 0.060 sec for who.adolescent_births\n",
      " 5: 0.107 sec for who.air_pollution_mortality\n",
      " 6: 0.088 sec for who.alcohol_consumption\n",
      " 7: 0.083 sec for who.attended_births\n",
      " 8: 0.079 sec for who.cause_of_death_known\n",
      " 9: 0.085 sec for who.child_overweight\n",
      "10: 0.108 sec for who.child_stunting\n",
      "11: 0.077 sec for who.child_wasting\n",
      "12: 0.063 sec for who.clean_fuels\n",
      "13: 0.068 sec for who.clean_water\n",
      "14: 0.081 sec for who.conflict_deaths\n",
      "15: 0.075 sec for who.dpt_immunization\n",
      "16: 0.085 sec for who.early_disease_deaths\n",
      "17: 0.091 sec for who.family_planning\n",
      "18: 0.088 sec for who.govt_expendature\n",
      "19: 0.082 sec for who.health_and_research\n",
      "20: 0.084 sec for who.health_professionals\n",
      "21: 0.070 sec for who.hepatitis_vaccine\n",
      "22: 0.080 sec for who.hiv_infections\n",
      "23: 0.077 sec for who.homicide\n",
      "24: 0.108 sec for who.life_expectancy\n",
      "25: 0.097 sec for who.life_expectancy_female\n",
      "26: 0.090 sec for who.life_expectancy_healthy\n",
      "27: 0.118 sec for who.life_expectancy_male\n",
      "28: 0.083 sec for who.malaria_incidence\n",
      "29: 0.093 sec for who.maternal_mortality\n",
      "30: 0.079 sec for who.natural_disasters\n",
      "31: 0.082 sec for who.neonatal_moratlity\n",
      "32: 0.101 sec for who.ntd_interventions\n",
      "33: 0.089 sec for who.particulate_matter\n",
      "34: 0.061 sec for who.poisoning_mortality\n",
      "35: 0.079 sec for who.population\n",
      "36: 0.091 sec for who.sanitation\n",
      "37: 0.062 sec for who.score_avg\n",
      "38: 0.079 sec for who.smoking_female\n",
      "39: 0.081 sec for who.smoking_male\n",
      "40: 0.076 sec for who.suicide_moratlity\n",
      "41: 0.096 sec for who.tb_indicence\n",
      "42: 0.085 sec for who.traffic_mortality\n",
      "43: 0.095 sec for who.under_five_mortality\n",
      "44: 0.078 sec for who.wash_mortality\n",
      "Finished. Each computation took 0.084 +/- 0.013 sec.\n"
     ]
    }
   ],
   "source": [
    "# Remove previous who plots\n",
    "who_files = glob.glob('plots/*')\n",
    "for file in who_files:\n",
    "    os.remove(file)\n",
    "    \n",
    "# Get number of datasets\n",
    "datasets = sw.list_example_datasets()\n",
    "num_datasets = len(datasets)    \n",
    "    \n",
    "# Plot each dataset\n",
    "computation_times = np.zeros(num_datasets)\n",
    "for n, dataset_name in enumerate(datasets):\n",
    "\n",
    "    # Use example data\n",
    "    dataset = sw.ExampleDataset(dataset_name)\n",
    "\n",
    "    # Perform density estimation\n",
    "    start = time.time()\n",
    "    density = sw.DensityEstimator(dataset.data)\n",
    "    stop = time.time()\n",
    "    print('%2d: %.3f sec for %s'%(n, stop-start, dataset_name))\n",
    "    computation_times[n] = stop-start\n",
    "\n",
    "    # Plot results #\n",
    "    title = dataset.description\n",
    "    xlabel = dataset.units\n",
    "    save_as = 'plots/%s.pdf'%dataset_name\n",
    "    density.plot(title=title, \n",
    "                 xlabel=xlabel, \n",
    "                 save_as=save_as,\n",
    "                 show_now=False)\n",
    "    \n",
    "    # Close figure\n",
    "    plt.close('all')\n",
    "    \n",
    "print('Finished. Each computation took %.3f +/- %0.3f sec.'%\\\n",
    "          (computation_times.mean(), computation_times.std()))"
   ]
  },
  {
   "cell_type": "code",
   "execution_count": null,
   "metadata": {},
   "outputs": [],
   "source": []
  }
 ],
 "metadata": {
  "kernelspec": {
   "display_name": "suftware",
   "language": "python",
   "name": "python3"
  },
  "language_info": {
   "codemirror_mode": {
    "name": "ipython",
    "version": 3
   },
   "file_extension": ".py",
   "mimetype": "text/x-python",
   "name": "python",
   "nbconvert_exporter": "python",
   "pygments_lexer": "ipython3",
   "version": "3.11.11"
  }
 },
 "nbformat": 4,
 "nbformat_minor": 2
}
